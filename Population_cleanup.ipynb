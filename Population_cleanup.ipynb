{
 "cells": [
  {
   "cell_type": "code",
   "execution_count": 1,
   "metadata": {
    "collapsed": true
   },
   "outputs": [],
   "source": [
    "import pandas as pd\n",
    "import numpy as np\n",
    "import matplotlib.pyplot as plt\n",
    "import seaborn as sns\n",
    "%matplotlib inline"
   ]
  },
  {
   "cell_type": "code",
   "execution_count": 2,
   "metadata": {
    "collapsed": true
   },
   "outputs": [],
   "source": [
    "# data from: https://github.com/cestastanford/historical-us-city-populations\n",
    "df = pd.read_csv('data/1790-2010_MASTER.csv')"
   ]
  },
  {
   "cell_type": "code",
   "execution_count": 3,
   "metadata": {
    "collapsed": false
   },
   "outputs": [
    {
     "data": {
      "text/html": [
       "<div>\n",
       "<table border=\"1\" class=\"dataframe\">\n",
       "  <thead>\n",
       "    <tr style=\"text-align: right;\">\n",
       "      <th></th>\n",
       "      <th>ID</th>\n",
       "      <th>ST</th>\n",
       "      <th>CityST</th>\n",
       "      <th>1790</th>\n",
       "      <th>1800</th>\n",
       "      <th>1810</th>\n",
       "      <th>1820</th>\n",
       "      <th>1830</th>\n",
       "      <th>1840</th>\n",
       "      <th>1850</th>\n",
       "      <th>...</th>\n",
       "      <th>Name_2010</th>\n",
       "      <th>County</th>\n",
       "      <th>LAT</th>\n",
       "      <th>LON</th>\n",
       "      <th>LAT_BING</th>\n",
       "      <th>LON_BING</th>\n",
       "      <th>City Source</th>\n",
       "      <th>Population Source</th>\n",
       "      <th>Place Type</th>\n",
       "      <th>County_Name</th>\n",
       "    </tr>\n",
       "    <tr>\n",
       "      <th>City</th>\n",
       "      <th></th>\n",
       "      <th></th>\n",
       "      <th></th>\n",
       "      <th></th>\n",
       "      <th></th>\n",
       "      <th></th>\n",
       "      <th></th>\n",
       "      <th></th>\n",
       "      <th></th>\n",
       "      <th></th>\n",
       "      <th></th>\n",
       "      <th></th>\n",
       "      <th></th>\n",
       "      <th></th>\n",
       "      <th></th>\n",
       "      <th></th>\n",
       "      <th></th>\n",
       "      <th></th>\n",
       "      <th></th>\n",
       "      <th></th>\n",
       "      <th></th>\n",
       "    </tr>\n",
       "  </thead>\n",
       "  <tbody>\n",
       "    <tr>\n",
       "      <th>New York City</th>\n",
       "      <td>4768</td>\n",
       "      <td>NY</td>\n",
       "      <td>New York City, NY</td>\n",
       "      <td>33131.0</td>\n",
       "      <td>60515.0</td>\n",
       "      <td>96373.0</td>\n",
       "      <td>123706.0</td>\n",
       "      <td>202589.0</td>\n",
       "      <td>312710.0</td>\n",
       "      <td>515547.0</td>\n",
       "      <td>...</td>\n",
       "      <td>New York city</td>\n",
       "      <td>NEW YORK</td>\n",
       "      <td>40.664274</td>\n",
       "      <td>-73.938500</td>\n",
       "      <td>40.7820014953613</td>\n",
       "      <td>-73.832703</td>\n",
       "      <td>US Census Bureau</td>\n",
       "      <td>US Census Bureau</td>\n",
       "      <td>Incorporated City</td>\n",
       "      <td>New York</td>\n",
       "    </tr>\n",
       "    <tr>\n",
       "      <th>Los Angeles</th>\n",
       "      <td>596</td>\n",
       "      <td>CA</td>\n",
       "      <td>Los Angeles, CA</td>\n",
       "      <td>0.0</td>\n",
       "      <td>0.0</td>\n",
       "      <td>0.0</td>\n",
       "      <td>0.0</td>\n",
       "      <td>0.0</td>\n",
       "      <td>0.0</td>\n",
       "      <td>1610.0</td>\n",
       "      <td>...</td>\n",
       "      <td>Los Angeles city</td>\n",
       "      <td>LOS ANGELES</td>\n",
       "      <td>34.019394</td>\n",
       "      <td>-118.410825</td>\n",
       "      <td>34.0534896850585</td>\n",
       "      <td>-118.245323</td>\n",
       "      <td>US Census Bureau</td>\n",
       "      <td>US Census Bureau and Jan Lahmeyer (&lt;2500)</td>\n",
       "      <td>Incorporated City</td>\n",
       "      <td>Los Angeles</td>\n",
       "    </tr>\n",
       "    <tr>\n",
       "      <th>Chicago</th>\n",
       "      <td>1864</td>\n",
       "      <td>IL</td>\n",
       "      <td>Chicago, IL</td>\n",
       "      <td>0.0</td>\n",
       "      <td>0.0</td>\n",
       "      <td>0.0</td>\n",
       "      <td>0.0</td>\n",
       "      <td>0.0</td>\n",
       "      <td>4470.0</td>\n",
       "      <td>29963.0</td>\n",
       "      <td>...</td>\n",
       "      <td>Chicago city</td>\n",
       "      <td>COOK</td>\n",
       "      <td>41.837551</td>\n",
       "      <td>-87.681844</td>\n",
       "      <td>41.8842506408691</td>\n",
       "      <td>-87.632446</td>\n",
       "      <td>US Census Bureau</td>\n",
       "      <td>US Census Bureau</td>\n",
       "      <td>Incorporated City</td>\n",
       "      <td>Cook</td>\n",
       "    </tr>\n",
       "    <tr>\n",
       "      <th>Houston</th>\n",
       "      <td>6536</td>\n",
       "      <td>TX</td>\n",
       "      <td>Houston, TX</td>\n",
       "      <td>0.0</td>\n",
       "      <td>0.0</td>\n",
       "      <td>0.0</td>\n",
       "      <td>0.0</td>\n",
       "      <td>0.0</td>\n",
       "      <td>0.0</td>\n",
       "      <td>2400.0</td>\n",
       "      <td>...</td>\n",
       "      <td>Houston city</td>\n",
       "      <td>HARRIS</td>\n",
       "      <td>29.780472</td>\n",
       "      <td>-95.386342</td>\n",
       "      <td>29.7604503631591</td>\n",
       "      <td>-95.369781</td>\n",
       "      <td>US Census Bureau</td>\n",
       "      <td>US Census Bureau and Jan Lahmeyer (&lt;2500)</td>\n",
       "      <td>Incorporated City</td>\n",
       "      <td>Harris</td>\n",
       "    </tr>\n",
       "    <tr>\n",
       "      <th>Philadelphia</th>\n",
       "      <td>5848</td>\n",
       "      <td>PA</td>\n",
       "      <td>Philadelphia, PA</td>\n",
       "      <td>28522.0</td>\n",
       "      <td>41220.0</td>\n",
       "      <td>53722.0</td>\n",
       "      <td>63802.0</td>\n",
       "      <td>80462.0</td>\n",
       "      <td>93665.0</td>\n",
       "      <td>121376.0</td>\n",
       "      <td>...</td>\n",
       "      <td>Philadelphia city</td>\n",
       "      <td>PHILADELPHIA</td>\n",
       "      <td>40.009375</td>\n",
       "      <td>-75.133346</td>\n",
       "      <td>39.952278137207</td>\n",
       "      <td>-75.162453</td>\n",
       "      <td>US Census Bureau</td>\n",
       "      <td>US Census Bureau</td>\n",
       "      <td>Incorporated City</td>\n",
       "      <td>Philadelphia</td>\n",
       "    </tr>\n",
       "  </tbody>\n",
       "</table>\n",
       "<p>5 rows × 37 columns</p>\n",
       "</div>"
      ],
      "text/plain": [
       "                 ID  ST             CityST     1790     1800     1810  \\\n",
       "City                                                                    \n",
       "New York City  4768  NY  New York City, NY  33131.0  60515.0  96373.0   \n",
       "Los Angeles     596  CA    Los Angeles, CA      0.0      0.0      0.0   \n",
       "Chicago        1864  IL        Chicago, IL      0.0      0.0      0.0   \n",
       "Houston        6536  TX        Houston, TX      0.0      0.0      0.0   \n",
       "Philadelphia   5848  PA   Philadelphia, PA  28522.0  41220.0  53722.0   \n",
       "\n",
       "                   1820      1830      1840      1850      ...       \\\n",
       "City                                                       ...        \n",
       "New York City  123706.0  202589.0  312710.0  515547.0      ...        \n",
       "Los Angeles         0.0       0.0       0.0    1610.0      ...        \n",
       "Chicago             0.0       0.0    4470.0   29963.0      ...        \n",
       "Houston             0.0       0.0       0.0    2400.0      ...        \n",
       "Philadelphia    63802.0   80462.0   93665.0  121376.0      ...        \n",
       "\n",
       "                       Name_2010        County        LAT         LON  \\\n",
       "City                                                                    \n",
       "New York City      New York city      NEW YORK  40.664274  -73.938500   \n",
       "Los Angeles     Los Angeles city   LOS ANGELES  34.019394 -118.410825   \n",
       "Chicago             Chicago city          COOK  41.837551  -87.681844   \n",
       "Houston             Houston city        HARRIS  29.780472  -95.386342   \n",
       "Philadelphia   Philadelphia city  PHILADELPHIA  40.009375  -75.133346   \n",
       "\n",
       "                       LAT_BING    LON_BING       City Source  \\\n",
       "City                                                            \n",
       "New York City  40.7820014953613  -73.832703  US Census Bureau   \n",
       "Los Angeles    34.0534896850585 -118.245323  US Census Bureau   \n",
       "Chicago        41.8842506408691  -87.632446  US Census Bureau   \n",
       "Houston        29.7604503631591  -95.369781  US Census Bureau   \n",
       "Philadelphia    39.952278137207  -75.162453  US Census Bureau   \n",
       "\n",
       "                                       Population Source         Place Type  \\\n",
       "City                                                                          \n",
       "New York City                           US Census Bureau  Incorporated City   \n",
       "Los Angeles    US Census Bureau and Jan Lahmeyer (<2500)  Incorporated City   \n",
       "Chicago                                 US Census Bureau  Incorporated City   \n",
       "Houston        US Census Bureau and Jan Lahmeyer (<2500)  Incorporated City   \n",
       "Philadelphia                            US Census Bureau  Incorporated City   \n",
       "\n",
       "                County_Name  \n",
       "City                         \n",
       "New York City      New York  \n",
       "Los Angeles     Los Angeles  \n",
       "Chicago                Cook  \n",
       "Houston              Harris  \n",
       "Philadelphia   Philadelphia  \n",
       "\n",
       "[5 rows x 37 columns]"
      ]
     },
     "execution_count": 3,
     "metadata": {},
     "output_type": "execute_result"
    }
   ],
   "source": [
    "df.set_index(['City'], inplace=True)\n",
    "df.sort_values(by=['2010'], ascending=False, inplace=True)\n",
    "df = df.head(100)\n",
    "df.head()"
   ]
  },
  {
   "cell_type": "code",
   "execution_count": 4,
   "metadata": {
    "collapsed": false
   },
   "outputs": [
    {
     "data": {
      "text/plain": [
       "Index([u'ID', u'ST', u'CityST', u'1790', u'1800', u'1810', u'1820', u'1830',\n",
       "       u'1840', u'1850', u'1860', u'1870', u'1880', u'1890', u'1900', u'1910',\n",
       "       u'1920', u'1930', u'1940', u'1950', u'1960', u'1970', u'1980', u'1990',\n",
       "       u'2000', u'2010', u'STPLFIPS_2010', u'Name_2010', u'County', u'LAT',\n",
       "       u'LON', u'LAT_BING', u'LON_BING', u'City Source', u'Population Source',\n",
       "       u'Place Type', u'County_Name'],\n",
       "      dtype='object')"
      ]
     },
     "execution_count": 4,
     "metadata": {},
     "output_type": "execute_result"
    }
   ],
   "source": [
    "columns = df.columns\n",
    "columns"
   ]
  },
  {
   "cell_type": "code",
   "execution_count": 5,
   "metadata": {
    "collapsed": false
   },
   "outputs": [
    {
     "data": {
      "text/html": [
       "<div>\n",
       "<table border=\"1\" class=\"dataframe\">\n",
       "  <thead>\n",
       "    <tr style=\"text-align: right;\">\n",
       "      <th></th>\n",
       "      <th>Place Type</th>\n",
       "      <th>City Source</th>\n",
       "      <th>Name_2010</th>\n",
       "      <th>Population Source</th>\n",
       "    </tr>\n",
       "    <tr>\n",
       "      <th>City</th>\n",
       "      <th></th>\n",
       "      <th></th>\n",
       "      <th></th>\n",
       "      <th></th>\n",
       "    </tr>\n",
       "  </thead>\n",
       "  <tbody>\n",
       "    <tr>\n",
       "      <th>New York City</th>\n",
       "      <td>Incorporated City</td>\n",
       "      <td>US Census Bureau</td>\n",
       "      <td>New York city</td>\n",
       "      <td>US Census Bureau</td>\n",
       "    </tr>\n",
       "    <tr>\n",
       "      <th>Los Angeles</th>\n",
       "      <td>Incorporated City</td>\n",
       "      <td>US Census Bureau</td>\n",
       "      <td>Los Angeles city</td>\n",
       "      <td>US Census Bureau and Jan Lahmeyer (&lt;2500)</td>\n",
       "    </tr>\n",
       "    <tr>\n",
       "      <th>Chicago</th>\n",
       "      <td>Incorporated City</td>\n",
       "      <td>US Census Bureau</td>\n",
       "      <td>Chicago city</td>\n",
       "      <td>US Census Bureau</td>\n",
       "    </tr>\n",
       "    <tr>\n",
       "      <th>Houston</th>\n",
       "      <td>Incorporated City</td>\n",
       "      <td>US Census Bureau</td>\n",
       "      <td>Houston city</td>\n",
       "      <td>US Census Bureau and Jan Lahmeyer (&lt;2500)</td>\n",
       "    </tr>\n",
       "    <tr>\n",
       "      <th>Philadelphia</th>\n",
       "      <td>Incorporated City</td>\n",
       "      <td>US Census Bureau</td>\n",
       "      <td>Philadelphia city</td>\n",
       "      <td>US Census Bureau</td>\n",
       "    </tr>\n",
       "  </tbody>\n",
       "</table>\n",
       "</div>"
      ],
      "text/plain": [
       "                      Place Type       City Source          Name_2010  \\\n",
       "City                                                                    \n",
       "New York City  Incorporated City  US Census Bureau      New York city   \n",
       "Los Angeles    Incorporated City  US Census Bureau   Los Angeles city   \n",
       "Chicago        Incorporated City  US Census Bureau       Chicago city   \n",
       "Houston        Incorporated City  US Census Bureau       Houston city   \n",
       "Philadelphia   Incorporated City  US Census Bureau  Philadelphia city   \n",
       "\n",
       "                                       Population Source  \n",
       "City                                                      \n",
       "New York City                           US Census Bureau  \n",
       "Los Angeles    US Census Bureau and Jan Lahmeyer (<2500)  \n",
       "Chicago                                 US Census Bureau  \n",
       "Houston        US Census Bureau and Jan Lahmeyer (<2500)  \n",
       "Philadelphia                            US Census Bureau  "
      ]
     },
     "execution_count": 5,
     "metadata": {},
     "output_type": "execute_result"
    }
   ],
   "source": [
    "df[['Place Type', 'City Source','Name_2010' ,'Population Source']].head()"
   ]
  },
  {
   "cell_type": "code",
   "execution_count": 6,
   "metadata": {
    "collapsed": false
   },
   "outputs": [
    {
     "name": "stdout",
     "output_type": "stream",
     "text": [
      "<class 'pandas.core.frame.DataFrame'>\n",
      "Index: 100 entries, New York City to Spokane\n",
      "Data columns (total 37 columns):\n",
      "ID                   100 non-null int64\n",
      "ST                   100 non-null object\n",
      "CityST               100 non-null object\n",
      "1790                 100 non-null float64\n",
      "1800                 100 non-null float64\n",
      "1810                 100 non-null float64\n",
      "1820                 100 non-null float64\n",
      "1830                 100 non-null float64\n",
      "1840                 100 non-null float64\n",
      "1850                 99 non-null float64\n",
      "1860                 100 non-null float64\n",
      "1870                 100 non-null float64\n",
      "1880                 100 non-null float64\n",
      "1890                 100 non-null float64\n",
      "1900                 100 non-null float64\n",
      "1910                 100 non-null float64\n",
      "1920                 100 non-null float64\n",
      "1930                 100 non-null float64\n",
      "1940                 100 non-null float64\n",
      "1950                 100 non-null float64\n",
      "1960                 100 non-null float64\n",
      "1970                 100 non-null float64\n",
      "1980                 100 non-null float64\n",
      "1990                 100 non-null float64\n",
      "2000                 100 non-null float64\n",
      "2010                 100 non-null float64\n",
      "STPLFIPS_2010        100 non-null float64\n",
      "Name_2010            100 non-null object\n",
      "County               100 non-null object\n",
      "LAT                  100 non-null float64\n",
      "LON                  100 non-null float64\n",
      "LAT_BING             100 non-null object\n",
      "LON_BING             100 non-null float64\n",
      "City Source          100 non-null object\n",
      "Population Source    100 non-null object\n",
      "Place Type           100 non-null object\n",
      "County_Name          100 non-null object\n",
      "dtypes: float64(27), int64(1), object(9)\n",
      "memory usage: 29.7+ KB\n"
     ]
    }
   ],
   "source": [
    "df.info()"
   ]
  },
  {
   "cell_type": "code",
   "execution_count": 7,
   "metadata": {
    "collapsed": false
   },
   "outputs": [
    {
     "data": {
      "text/plain": [
       "dtype('float64')"
      ]
     },
     "execution_count": 7,
     "metadata": {},
     "output_type": "execute_result"
    }
   ],
   "source": [
    "df['LAT_BING'] = df['LAT_BING'].astype(float)\n",
    "df['LAT_BING'].dtype"
   ]
  },
  {
   "cell_type": "code",
   "execution_count": 67,
   "metadata": {
    "collapsed": false
   },
   "outputs": [],
   "source": [
    "#df['Name_2010'].split(' ')[-1]\n",
    "# check to see if this is identical to the city column\n",
    "df['type'] = df['Name_2010'].apply(lambda x: x.split(' ')[-1])"
   ]
  },
  {
   "cell_type": "code",
   "execution_count": 70,
   "metadata": {
    "collapsed": false
   },
   "outputs": [
    {
     "data": {
      "text/plain": [
       "city            94\n",
       "(balance)        3\n",
       "municipality     1\n",
       "CDPs             1\n",
       "county           1\n",
       "Name: type, dtype: int64"
      ]
     },
     "execution_count": 70,
     "metadata": {},
     "output_type": "execute_result"
    }
   ],
   "source": [
    "df['type'].value_counts()"
   ]
  },
  {
   "cell_type": "code",
   "execution_count": 83,
   "metadata": {
    "collapsed": false
   },
   "outputs": [
    {
     "data": {
      "text/plain": [
       "0    100\n",
       "Name: STPLFIPS_2010, dtype: int64"
      ]
     },
     "execution_count": 83,
     "metadata": {},
     "output_type": "execute_result"
    }
   ],
   "source": [
    "# check after the decimal to see if I cna conver to int\n",
    "b = df['STPLFIPS_2010'].apply(lambda x: str(x).split('.')[-1])\n",
    "b.value_counts()"
   ]
  },
  {
   "cell_type": "code",
   "execution_count": 84,
   "metadata": {
    "collapsed": true
   },
   "outputs": [],
   "source": [
    "df['STPLFIPS_2010']=df['STPLFIPS_2010'].astype(int)"
   ]
  },
  {
   "cell_type": "code",
   "execution_count": 97,
   "metadata": {
    "collapsed": false
   },
   "outputs": [
    {
     "data": {
      "text/html": [
       "<div>\n",
       "<table border=\"1\" class=\"dataframe\">\n",
       "  <thead>\n",
       "    <tr style=\"text-align: right;\">\n",
       "      <th></th>\n",
       "      <th>LAT</th>\n",
       "      <th>LAT_BING</th>\n",
       "    </tr>\n",
       "    <tr>\n",
       "      <th>City</th>\n",
       "      <th></th>\n",
       "      <th></th>\n",
       "    </tr>\n",
       "  </thead>\n",
       "  <tbody>\n",
       "    <tr>\n",
       "      <th>New York City</th>\n",
       "      <td>40.664274</td>\n",
       "      <td>40.782001</td>\n",
       "    </tr>\n",
       "    <tr>\n",
       "      <th>Los Angeles</th>\n",
       "      <td>34.019394</td>\n",
       "      <td>34.053490</td>\n",
       "    </tr>\n",
       "    <tr>\n",
       "      <th>Chicago</th>\n",
       "      <td>41.837551</td>\n",
       "      <td>41.884251</td>\n",
       "    </tr>\n",
       "    <tr>\n",
       "      <th>Houston</th>\n",
       "      <td>29.780472</td>\n",
       "      <td>29.760450</td>\n",
       "    </tr>\n",
       "    <tr>\n",
       "      <th>Philadelphia</th>\n",
       "      <td>40.009375</td>\n",
       "      <td>39.952278</td>\n",
       "    </tr>\n",
       "  </tbody>\n",
       "</table>\n",
       "</div>"
      ],
      "text/plain": [
       "                     LAT   LAT_BING\n",
       "City                               \n",
       "New York City  40.664274  40.782001\n",
       "Los Angeles    34.019394  34.053490\n",
       "Chicago        41.837551  41.884251\n",
       "Houston        29.780472  29.760450\n",
       "Philadelphia   40.009375  39.952278"
      ]
     },
     "execution_count": 97,
     "metadata": {},
     "output_type": "execute_result"
    }
   ],
   "source": [
    "df[['LAT', 'LAT_BING']].head()\n",
    "#df.info()"
   ]
  },
  {
   "cell_type": "code",
   "execution_count": 105,
   "metadata": {
    "collapsed": false
   },
   "outputs": [],
   "source": [
    "df.drop(['Name_2010','Place Type','CityST', 'ID','LAT_BING', 'LON_BING'], axis=1, inplace=True)"
   ]
  },
  {
   "cell_type": "code",
   "execution_count": null,
   "metadata": {
    "collapsed": true
   },
   "outputs": [],
   "source": []
  }
 ],
 "metadata": {
  "kernelspec": {
   "display_name": "Python 2",
   "language": "python",
   "name": "python2"
  },
  "language_info": {
   "codemirror_mode": {
    "name": "ipython",
    "version": 2
   },
   "file_extension": ".py",
   "mimetype": "text/x-python",
   "name": "python",
   "nbconvert_exporter": "python",
   "pygments_lexer": "ipython2",
   "version": "2.7.11"
  }
 },
 "nbformat": 4,
 "nbformat_minor": 0
}
