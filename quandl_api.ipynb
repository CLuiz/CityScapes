{
 "cells": [
  {
   "cell_type": "code",
   "execution_count": 1,
   "metadata": {
    "collapsed": false
   },
   "outputs": [],
   "source": [
    "from __future__ import division\n",
    "import pandas as pd\n",
    "import numpy as np\n",
    "import quandl as ql\n",
    "from StringIO import StringIO\n",
    "from zipfile import ZipFile\n",
    "from urllib import urlopen\n",
    "import os"
   ]
  },
  {
   "cell_type": "code",
   "execution_count": 5,
   "metadata": {
    "collapsed": false
   },
   "outputs": [],
   "source": [
    "# get API key from environ\n",
    "quandl_api_key = os.environ['QUANDL_API_KEY']"
   ]
  },
  {
   "cell_type": "code",
   "execution_count": 6,
   "metadata": {
    "collapsed": true
   },
   "outputs": [],
   "source": [
    "# def function to grab filenames from quandl database(s)\n",
    "def get_file_metadata(zip_url):\n",
    "    '''INPUT: url of zip file\n",
    "       OUTPUT: list of lines from each file in zip file\n",
    "       From Quandl output will be of the form:\n",
    "       [[quandl file code 0, target file name 0], \n",
    "       [quandl file code 1, target file name 1], ]\n",
    "       '''\n",
    "    file_list = []\n",
    "    zipfile = ZipFile(StringIO(urlopen(zip_url).read()))\n",
    "    names = zipfile.namelist()\n",
    "    for name in names:\n",
    "        for line in zipfile.open(name).readlines():\n",
    "            file_list.append(line.strip('\\n').split(','))\n",
    "    return file_list\n",
    "# list comp ^^\n",
    "# file_list = [line for name in names for line in zipfile.open(name).readlines()...]"
   ]
  },
  {
   "cell_type": "code",
   "execution_count": 65,
   "metadata": {
    "collapsed": false
   },
   "outputs": [],
   "source": [
    "def get_files(file_names, target_directory_name):\n",
    "    '''INPUT: list of file names, target directory name\n",
    "       OUTPUT: csv files of passed names in target directory       \n",
    "    '''\n",
    "    path = os.getcwd()+'/{}/'.format(target_directory_name)\n",
    "    ql.ApiConfig.api_key = quandl_api_key\n",
    "    \n",
    "    if not os.path.exists(path):\n",
    "        os.makedirs(path)\n",
    "    \n",
    "    for file_name in file_names:\n",
    "        #ql.get(file_name[0]).to_csv(path+file_name[1]+'.csv')\n",
    "        fixed_file_name = file_name[1].lower().replace(' - ', '_').replace(' ', '_')        \n",
    "        file_path = '{}{}{}'.format(path, fixed_file_name, '.csv')\n",
    "        if not os.path.isfile(file_path):\n",
    "            ql.get(file_name[0]).to_csv(file_path)"
   ]
  },
  {
   "cell_type": "code",
   "execution_count": null,
   "metadata": {
    "collapsed": true
   },
   "outputs": [],
   "source": [
    "file_names = get_file_metadata('https://www.quandl.com/api/v3/databases/NVCA/codes')\n",
    "get_files(file_names,'data1')"
   ]
  }
 ],
 "metadata": {
  "kernelspec": {
   "display_name": "Python 2",
   "language": "python",
   "name": "python2"
  },
  "language_info": {
   "codemirror_mode": {
    "name": "ipython",
    "version": 2
   },
   "file_extension": ".py",
   "mimetype": "text/x-python",
   "name": "python",
   "nbconvert_exporter": "python",
   "pygments_lexer": "ipython2",
   "version": "2.7.11"
  }
 },
 "nbformat": 4,
 "nbformat_minor": 0
}
