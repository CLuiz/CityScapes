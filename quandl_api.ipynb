{
 "cells": [
  {
   "cell_type": "markdown",
   "metadata": {},
   "source": [
    "Functions for dealing with the quandl api.  "
   ]
  },
  {
   "cell_type": "code",
   "execution_count": 16,
   "metadata": {
    "collapsed": false
   },
   "outputs": [],
   "source": [
    "from __future__ import division\n",
    "import pandas as pd\n",
    "import numpy as np\n",
    "import quandl as ql\n",
    "from StringIO import StringIO\n",
    "from zipfile import ZipFile\n",
    "from urllib import urlopen\n",
    "import os"
   ]
  },
  {
   "cell_type": "code",
   "execution_count": 17,
   "metadata": {
    "collapsed": false
   },
   "outputs": [],
   "source": [
    "# get API key from environ\n",
    "quandl_api_key = os.environ['QUANDL_API_KEY']"
   ]
  },
  {
   "cell_type": "code",
   "execution_count": 18,
   "metadata": {
    "collapsed": true
   },
   "outputs": [],
   "source": [
    "# def function to grab filenames from quandl database(s)\n",
    "def get_file_metadata(zip_url):\n",
    "    '''INPUT: url of zip file\n",
    "       OUTPUT: list of lines from each file in zip file\n",
    "       From Quandl output will be of the form:\n",
    "       [[quandl file code 0, target file name 0], \n",
    "       [quandl file code 1, target file name 1], ]\n",
    "       '''\n",
    "    file_list = []\n",
    "    zipfile = ZipFile(StringIO(urlopen(zip_url).read()))\n",
    "    names = zipfile.namelist()\n",
    "    dir_prefix = zip_url.split('/')[-2]\n",
    "    for name in names:\n",
    "        for line in zipfile.open(name).readlines():\n",
    "            file_list.append(line.strip('\\n').split(','))\n",
    "    return file_list, dir_prefix\n",
    "# list comp ^^\n",
    "# file_list = [line for name in names for line in zipfile.open(name).readlines()...]"
   ]
  },
  {
   "cell_type": "code",
   "execution_count": 19,
   "metadata": {
    "collapsed": false
   },
   "outputs": [],
   "source": [
    "def get_files(file_names, dir_prefix, target_directory_name):\n",
    "    '''INPUT: list of file names, target directory name\n",
    "       OUTPUT: csv files of passed names in target directory       \n",
    "    '''\n",
    "    path = os.getcwd()+'/{}/{}'.format(target_directory_name, dir_prefix)\n",
    "    ql.ApiConfig.api_key = quandl_api_key\n",
    "    \n",
    "    if not os.path.exists(path):\n",
    "        os.makedirs(path)\n",
    "    \n",
    "    for file_name in file_names:\n",
    "        #ql.get(file_name[0]).to_csv(path+file_name[1]+'.csv')\n",
    "        fixed_file_name = file_name[1].lower().replace(' - ', '_').replace(' ', '_')        \n",
    "        file_path = '{}/{}.csv'.format(path, fixed_file_name)\n",
    "        if not os.path.isfile(file_path):\n",
    "            # ql.ApiConfig.api_key = quandl_api_key\n",
    "            ql.get(file_name[0]).to_csv(file_path)"
   ]
  },
  {
   "cell_type": "code",
   "execution_count": 23,
   "metadata": {
    "collapsed": false
   },
   "outputs": [],
   "source": [
    "# Get NVCA Data\n",
    "#file_names, dir_prefix = get_file_metadata('https://www.quandl.com/api/v3/databases/NVCA/codes')\n",
    "#get_files(file_names, dir_prefix,'test')"
   ]
  },
  {
   "cell_type": "code",
   "execution_count": 21,
   "metadata": {
    "collapsed": false
   },
   "outputs": [],
   "source": [
    "# change this function to accept the database code, not the complete url\n",
    "urls = ['https://www.quandl.com/api/v3/databases/NVCA/codes',\n",
    "'https://www.quandl.com/api/v3/databases/RENCAP/codes',\n",
    "'https://www.quandl.com/api/v3/databases/CVR/codes',\n",
    "'https://www.quandl.com/api/v3/databases/COOLEY/codes']\n",
    "\n",
    "db_codes =['RENCAP', 'CVR', 'COOLEY']\n",
    "\n",
    "def quandl_data(db_codes):\n",
    "    '''INPUT: List of target quandl db codes\n",
    "       OUTPUT: Csv's from targeted db's nested in the 'data' directory '''\n",
    "    urls=[]\n",
    "    url_prefix = 'https://www.quandl.com/api/v3/databases/'\n",
    "    \n",
    "    for code in db_codes:\n",
    "        urls.append(('{}{}/codes').format(url_prefix, code))\n",
    "        \n",
    "    for url in urls:\n",
    "        file_names, dir_prefix = get_file_metadata(url)\n",
    "        get_files(file_names, dir_prefix, 'data/')"
   ]
  },
  {
   "cell_type": "code",
   "execution_count": 24,
   "metadata": {
    "collapsed": false
   },
   "outputs": [],
   "source": [
    "#quandl_data(urls)"
   ]
  },
  {
   "cell_type": "code",
   "execution_count": 29,
   "metadata": {
    "collapsed": false
   },
   "outputs": [
    {
     "name": "stdout",
     "output_type": "stream",
     "text": [
      "['https://www.quandl.com/api/v3/databases/RENCAP/codes']\n",
      "['https://www.quandl.com/api/v3/databases/RENCAP/codes', 'https://www.quandl.com/api/v3/databases/CVR/codes']\n",
      "['https://www.quandl.com/api/v3/databases/RENCAP/codes', 'https://www.quandl.com/api/v3/databases/CVR/codes', 'https://www.quandl.com/api/v3/databases/COOLEY/codes']\n"
     ]
    }
   ],
   "source": [
    "db_codes =['NVCA', 'RENCAP', 'CVR', 'COOLEY']\n",
    "url_prefix = 'https://www.quandl.com/api/v3/databases/'\n",
    "urls=[]\n",
    "\n",
    "for code in db_codes:\n",
    "    urls.append(('{}{}/codes').format(url_prefix, code))\n",
    "    print urls\n",
    "    "
   ]
  },
  {
   "cell_type": "code",
   "execution_count": null,
   "metadata": {
    "collapsed": true
   },
   "outputs": [],
   "source": []
  }
 ],
 "metadata": {
  "kernelspec": {
   "display_name": "Python 2",
   "language": "python",
   "name": "python2"
  },
  "language_info": {
   "codemirror_mode": {
    "name": "ipython",
    "version": 2
   },
   "file_extension": ".py",
   "mimetype": "text/x-python",
   "name": "python",
   "nbconvert_exporter": "python",
   "pygments_lexer": "ipython2",
   "version": "2.7.11"
  }
 },
 "nbformat": 4,
 "nbformat_minor": 0
}
