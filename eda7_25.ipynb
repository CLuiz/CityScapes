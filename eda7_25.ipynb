{
 "cells": [
  {
   "cell_type": "code",
   "execution_count": 255,
   "metadata": {
    "collapsed": false
   },
   "outputs": [],
   "source": [
    "from __future__ import division\n",
    "import pandas as pd \n",
    "import numpy as np\n",
    "import matplotlib.pyplot as plt\n",
    "import os\n",
    "%matplotlib inline"
   ]
  },
  {
   "cell_type": "code",
   "execution_count": 256,
   "metadata": {
    "collapsed": false
   },
   "outputs": [],
   "source": [
    "# read in population (1790 - 2010) and meetup info (2013-2014)\n",
    "df = pd.read_csv('data/1790-2010_MASTER.csv')\n",
    "df['city'] = df['City'].apply(lambda x: x.lower().replace('-', '_').replace(' ', '_'))\n",
    "df.set_index(['city'], inplace=True)\n",
    "df.sort_values(by=['2010'], ascending=False, inplace=True)\n",
    "df = df.head(100)\n",
    "\n",
    "df['STPLFIPS_2010']=df['STPLFIPS_2010'].astype(int)\n",
    "df.drop(['Name_2010','Place Type','CityST', 'City', 'ID','LAT_BING', 'LON_BING'], axis=1, inplace=True)\n",
    "\n",
    "columns = df.columns\n",
    "\n",
    "rj_df = pd.read_table('data/rj_metrics.txt')\n",
    "rj_df['state'] = (rj_df['City'].apply(lambda x: x.split(',')[-1]))\n",
    "rj_df['city'] = rj_df['City'].apply(lambda x: x.split(',')[0])\n",
    "rj_df['city'] = rj_df['city'].apply(lambda x: x.lower().replace('-', '_').replace(' ', '_'))\n",
    "rj_df.drop('City', axis =1, inplace=True)\n",
    "rj_df.set_index(['city'], inplace = True)\n",
    "\n",
    "new_df = pd.concat([df, rj_df], axis=1)"
   ]
  },
  {
   "cell_type": "code",
   "execution_count": 257,
   "metadata": {
    "collapsed": false
   },
   "outputs": [],
   "source": [
    "# clean and join bureau of economic affairs info\n",
    "\n",
    "bea_df = pd.read_csv('data/bea.csv', header=2)\n",
    "columns = bea_df.columns\n",
    "new_columns = [u'city', u'bea_state', u'bea_2009', u'bea_2010', u'bea_2011', u'bea_2012',\n",
    "       u'bea_2013', u'bea_2014', u'bea_what_is_this _crap']\n",
    "bea_df.columns = new_columns\n",
    "#bea_df = bea_df[1:]\n",
    "bea_df['city'] = bea_df['bea_state'].apply(lambda x: x.split(',')[0])\n",
    "bea_df['city'] = bea_df['city'].apply(lambda x: x.lower().replace('-', '_').replace(' ', '_'))\n",
    "bea_df['bea_state'] = bea_df['bea_state'].apply(lambda x: x.split(',')[-1])\n",
    "bea_df.set_index('city', inplace=True)\n",
    "\n",
    "next_df = pd.concat([new_df, bea_df], axis=0)"
   ]
  },
  {
   "cell_type": "code",
   "execution_count": null,
   "metadata": {
    "collapsed": true
   },
   "outputs": [],
   "source": []
  },
  {
   "cell_type": "code",
   "execution_count": 53,
   "metadata": {
    "collapsed": false
   },
   "outputs": [],
   "source": [
    "path = os.getcwd()+ '/Numbeo_cost_of_living/'\n",
    "dir_name = path.split('/')[-2]"
   ]
  },
  {
   "cell_type": "code",
   "execution_count": 230,
   "metadata": {
    "collapsed": false
   },
   "outputs": [],
   "source": [
    "#subset by dense rows\n",
    "meetup_df = new_df[new_df['Pop'].notnull()]\n",
    "cities = list(meetup_df.index)\n",
    "\n",
    "# fix column names\n",
    "cols = meetup_df.columns\n",
    "cols = [item.lower().replace(' ', '_') for item in cols]"
   ]
  }
 ],
 "metadata": {
  "kernelspec": {
   "display_name": "Python 2",
   "language": "python",
   "name": "python2"
  },
  "language_info": {
   "codemirror_mode": {
    "name": "ipython",
    "version": 2
   },
   "file_extension": ".py",
   "mimetype": "text/x-python",
   "name": "python",
   "nbconvert_exporter": "python",
   "pygments_lexer": "ipython2",
   "version": "2.7.11"
  }
 },
 "nbformat": 4,
 "nbformat_minor": 0
}
