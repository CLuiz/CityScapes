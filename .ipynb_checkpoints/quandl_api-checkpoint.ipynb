{
 "cells": [
  {
   "cell_type": "code",
   "execution_count": 1,
   "metadata": {
    "collapsed": false
   },
   "outputs": [],
   "source": [
    "from __future__ import division\n",
    "import pandas as pd\n",
    "import numpy as np\n",
    "import quandl as ql\n",
    "from StringIO import StringIO\n",
    "from zipfile import ZipFile\n",
    "from urllib import urlopen\n",
    "import os"
   ]
  },
  {
   "cell_type": "code",
   "execution_count": 5,
   "metadata": {
    "collapsed": false
   },
   "outputs": [],
   "source": [
    "# get API key from environ\n",
    "quandl_api_key = os.environ['QUANDL_API_KEY']"
   ]
  },
  {
   "cell_type": "code",
   "execution_count": 6,
   "metadata": {
    "collapsed": true
   },
   "outputs": [],
   "source": [
    "# def function to grab filenames from quandl database(s)\n",
    "def get_file_metadata(zip_url):\n",
    "    '''INPUT: url of zip file\n",
    "       OUTPUT: list of lines from each file in zip file\n",
    "       From Quandl output will be of the form:\n",
    "       [[quandl file code 0, target file name 0], \n",
    "       [quandl file code 1, target file name 1], ]\n",
    "       '''\n",
    "    file_list = []\n",
    "   # url = urlopen(zip_url)\n",
    "    zipfile = ZipFile(StringIO(urlopen(zip_url).read()))\n",
    "    names = zipfile.namelist()\n",
    "    for name in names:\n",
    "        for line in zipfile.open(name).readlines():\n",
    "            file_list.append(line.strip('\\n').split(','))\n",
    "    return file_list\n",
    "# list comp ^^\n",
    "# file_list = [line for name in names for line in zipfile.open(name).readlines()...]"
   ]
  },
  {
   "cell_type": "code",
   "execution_count": 7,
   "metadata": {
    "collapsed": false
   },
   "outputs": [],
   "source": [
    "file_names = get_file_metadata('https://www.quandl.com/api/v3/databases/NVCA/codes')"
   ]
  },
  {
   "cell_type": "code",
   "execution_count": 63,
   "metadata": {
    "collapsed": false
   },
   "outputs": [
    {
     "name": "stdout",
     "output_type": "stream",
     "text": [
      "/Users/IXChris/Desktop/G/capstone/data1/venture_capital_investments_by_industry_number_of_deals.csv\n",
      "/Users/IXChris/Desktop/G/capstone/data1/capital_commitments_to_private_equity_funds.csv\n",
      "/Users/IXChris/Desktop/G/capstone/data1/venture_capital_investments_by_state_number_of_deals.csv\n",
      "/Users/IXChris/Desktop/G/capstone/data1/venture_capital_fund_raising_activity_annual_data.csv\n",
      "/Users/IXChris/Desktop/G/capstone/data1/total_capital_under_management_by_firm_type.csv\n",
      "/Users/IXChris/Desktop/G/capstone/data1/venture_capital_exits_annual_data.csv\n",
      "/Users/IXChris/Desktop/G/capstone/data1/venture-backed_merger_and_acquisitions.csv\n",
      "/Users/IXChris/Desktop/G/capstone/data1/principals_information.csv\n",
      "/Users/IXChris/Desktop/G/capstone/data1/venture_capital_exits_quarterly_data.csv\n",
      "/Users/IXChris/Desktop/G/capstone/data1/venture_capital_fund_raising_activity_quarterly_data.csv\n",
      "/Users/IXChris/Desktop/G/capstone/data1/venture-backed_ipos_by_moneytree_industry_total_number_of_companies.csv\n",
      "/Users/IXChris/Desktop/G/capstone/data1/venture-backed_us_company_ipos_by_country_number_of_exits.csv\n",
      "/Users/IXChris/Desktop/G/capstone/data1/companies_in_registration_vs_number_of_venture-backed_ipos.csv\n",
      "/Users/IXChris/Desktop/G/capstone/data1/number_of_venture-backed_ipos_vs._all_ipos.csv\n",
      "/Users/IXChris/Desktop/G/capstone/data1/venture-backed_ipos.csv\n",
      "/Users/IXChris/Desktop/G/capstone/data1/m_and_a_transaction_values_vs_amount_invested.csv\n",
      "/Users/IXChris/Desktop/G/capstone/data1/ratio_fo_ipo_pre-money_valuation_to_amount_invested.csv\n",
      "/Users/IXChris/Desktop/G/capstone/data1/private_equity-backed_acquisitions_by_moneytree_industry_number_of_companies.csv\n",
      "/Users/IXChris/Desktop/G/capstone/data1/venture-backed_ipos_by_moneytree_industry_total_offering_size.csv\n",
      "/Users/IXChris/Desktop/G/capstone/data1/venture_capital_fund_commitments_by_state.csv\n",
      "/Users/IXChris/Desktop/G/capstone/data1/venture-backed_ipos.csv\n",
      "/Users/IXChris/Desktop/G/capstone/data1/venture_capital_investments_first_vs_follow-on_rounds_total_dollars_invested.csv\n",
      "/Users/IXChris/Desktop/G/capstone/data1/venture-backed_acquisitions_by_moneytree_industry_number_of_companies.csv\n",
      "/Users/IXChris/Desktop/G/capstone/data1/internet_related_investments.csv\n",
      "/Users/IXChris/Desktop/G/capstone/data1/private_equity-backed_acquisitions_by_moneytree_industry_total_transaction_value.csv\n",
      "/Users/IXChris/Desktop/G/capstone/data1/post-offer_value_ranges.csv\n",
      "/Users/IXChris/Desktop/G/capstone/data1/private_equity-backed_merger_and_acquisitions.csv\n",
      "/Users/IXChris/Desktop/G/capstone/data1/venture-backed_ipos.csv\n",
      "/Users/IXChris/Desktop/G/capstone/data1/first_sequence_by_industry_number_of_deals.csv\n",
      "/Users/IXChris/Desktop/G/capstone/data1/first_sequence_by_stage_of_development.csv\n",
      "/Users/IXChris/Desktop/G/capstone/data1/venture_capital_investments_by_region_number_of_deals.csv\n",
      "/Users/IXChris/Desktop/G/capstone/data1/clean_technology_investment_by_year.csv\n",
      "/Users/IXChris/Desktop/G/capstone/data1/venture-backed_m_&_a_exits.csv\n",
      "/Users/IXChris/Desktop/G/capstone/data1/m&a_deal_value_ranges_by_number_of_companies.csv\n",
      "/Users/IXChris/Desktop/G/capstone/data1/venture-backed_acquisitions_by_moneytree_industry_total_transaction_values.csv\n",
      "/Users/IXChris/Desktop/G/capstone/data1/venture_capital_investments_by_industry.csv\n",
      "/Users/IXChris/Desktop/G/capstone/data1/venture_capital_investments_first_vs._follow-on_rounds_total_number_of_companies.csv\n",
      "/Users/IXChris/Desktop/G/capstone/data1/venture-backed_ipos_valuations_as_of_ipo.csv\n",
      "/Users/IXChris/Desktop/G/capstone/data1/venture-backed_us_company_ipos_by_country_offer_amount.csv\n",
      "/Users/IXChris/Desktop/G/capstone/data1/median_years_between_first_funding_and_the_ipo_by_industry.csv\n",
      "/Users/IXChris/Desktop/G/capstone/data1/average_years_between_first_funding_and_the_ipo_by_industry.csv\n",
      "/Users/IXChris/Desktop/G/capstone/data1/capital_under_management_by_state.csv\n",
      "/Users/IXChris/Desktop/G/capstone/data1/fund_and_firm_analysis.csv\n",
      "/Users/IXChris/Desktop/G/capstone/data1/venture_capital_investments_by_region.csv\n",
      "/Users/IXChris/Desktop/G/capstone/data1/first_sequence_by_industry.csv\n",
      "/Users/IXChris/Desktop/G/capstone/data1/venture-backed_m_&_a_exits.csv\n",
      "/Users/IXChris/Desktop/G/capstone/data1/corporate_investments_by_year.csv\n",
      "/Users/IXChris/Desktop/G/capstone/data1/venture_capital_investments_by_stage.csv\n",
      "/Users/IXChris/Desktop/G/capstone/data1/venture_capital_investments_by_stage_number_of_deals.csv\n",
      "/Users/IXChris/Desktop/G/capstone/data1/first_sequence_by_stage_of_development_number_of_deals.csv\n",
      "/Users/IXChris/Desktop/G/capstone/data1/venture_capital_investments_by_stage_number_of_deals_quarterly.csv\n",
      "/Users/IXChris/Desktop/G/capstone/data1/venture_capital_investments_by_stage_quarterly.csv\n"
     ]
    }
   ],
   "source": [
    "def get_files(file_names, target_directory_name):\n",
    "    path = os.getcwd()+'/{}/'.format(target_directory_name)\n",
    "    ql.ApiConfig.api_key = quandl_api_key\n",
    "    \n",
    "    if not os.path.exists(path):\n",
    "        os.makedirs(path)\n",
    "    \n",
    "    for file_name in file_names:\n",
    "        #ql.get(file_name[0]).to_csv(path+file_name[1]+'.csv')\n",
    "        fixed_file_name = file_name[1].lower().replace(' - ', '_').replace(' ', '_')        \n",
    "        file_path = '{}{}{}'.format(path, fixed_file_name, '.csv')\n",
    "        print file_path\n",
    "        if not os.path.isfile(file_path):\n",
    "            ql.get(file_name[0]).to_csv(file_path)\n",
    "                \n",
    "get_files(file_names,'data1')"
   ]
  },
  {
   "cell_type": "code",
   "execution_count": 19,
   "metadata": {
    "collapsed": false
   },
   "outputs": [
    {
     "ename": "AttributeError",
     "evalue": "'NoneType' object has no attribute 'describe'",
     "output_type": "error",
     "traceback": [
      "\u001b[0;31m---------------------------------------------------------------------------\u001b[0m",
      "\u001b[0;31mAttributeError\u001b[0m                            Traceback (most recent call last)",
      "\u001b[0;32m<ipython-input-19-47a0443fa422>\u001b[0m in \u001b[0;36m<module>\u001b[0;34m()\u001b[0m\n\u001b[0;32m----> 1\u001b[0;31m \u001b[0mfile_zero\u001b[0m\u001b[0;34m.\u001b[0m\u001b[0mdescribe\u001b[0m\u001b[0;34m(\u001b[0m\u001b[0;34m)\u001b[0m\u001b[0;34m\u001b[0m\u001b[0m\n\u001b[0m",
      "\u001b[0;31mAttributeError\u001b[0m: 'NoneType' object has no attribute 'describe'"
     ]
    }
   ],
   "source": [
    "file_zero.describe()"
   ]
  },
  {
   "cell_type": "code",
   "execution_count": 32,
   "metadata": {
    "collapsed": false
   },
   "outputs": [
    {
     "name": "stdout",
     "output_type": "stream",
     "text": [
      "['NVCA/VENTURE_3_10B', 'Venture Capital Investments By Industry - Number of Deals']\n",
      "['NVCA/VENTURE_2_02', 'Capital Commitments To Private Equity Funds']\n",
      "['NVCA/VENTURE_3_11', 'Venture Capital Investments By State - Number of Deals']\n",
      "['NVCA/VCFR_YEARLY', 'Venture Capital Fund Raising Activity - Annual Data']\n",
      "['NVCA/VENTURE_1_02', 'Total Capital Under Management By Firm Type']\n",
      "['NVCA/VC_EXITS_YEARLY', 'Venture Capital Exits - Annual Data']\n",
      "['NVCA/VENTURE_4_07', 'Venture-Backed Merger and Acquisitions']\n",
      "['NVCA/VENTURE_1_05', 'Principals Information']\n",
      "['NVCA/VC_EXITS_QUARTERLY', 'Venture Capital Exits - Quarterly Data']\n",
      "['NVCA/VCFR_QUARTERLY', 'Venture Capital Fund Raising Activity - Quarterly Data']\n",
      "['NVCA/VENTURE_4_05', 'Venture-Backed IPOs by MoneyTree Industry - Total Number of Companies']\n",
      "['NVCA/VENTURE_4_17B', 'Venture-Backed US Company IPOs By Country - Number of Exits']\n",
      "['NVCA/VENTURE_4_14', 'Companies in Registration vs Number of Venture-Backed IPOs']\n",
      "['NVCA/VENTURE_4_02', 'Number of Venture-Backed IPOs vs. All IPOs']\n",
      "['NVCA/VENTURE_4_03', 'Venture-Backed IPOs']\n",
      "['NVCA/VENTURE_4_13', 'M and A Transaction Values vs Amount Invested']\n",
      "['NVCA/VENTURE_4_18', 'Ratio fo IPO Pre-Money Valuation to Amount Invested']\n",
      "['NVCA/VENTURE_4_12', 'Private Equity-Backed Acquisitions by MoneyTree Industry - Number of Companies']\n",
      "['NVCA/VENTURE_4_04', 'Venture-Backed IPOs by MoneyTree Industry - Total Offering Size']\n",
      "['NVCA/VENTURE_2_03', 'Venture Capital Fund Commitments by State']\n",
      "['NVCA/VENTURE_9_0', 'Venture-Backed IPOs']\n",
      "['NVCA/VENTURE_3_13', 'Venture Capital Investments First vs Follow-on Rounds - Total Dollars Invested']\n",
      "['NVCA/VENTURE_4_10', 'Venture-Backed Acquisitions by MoneyTree Industry - Number of Companies']\n",
      "['NVCA/VENTURE_3_20', 'Internet Related Investments']\n",
      "['NVCA/VENTURE_4_11', 'Private Equity-Backed Acquisitions by MoneyTree Industry - Total Transaction Value']\n",
      "['NVCA/VENTURE_4_15', 'Post-Offer Value Ranges']\n",
      "['NVCA/VENTURE_4_08', 'Private Equity-Backed Merger and Acquisitions']\n",
      "['NVCA/VENTURE_IPOS', 'Venture-Backed IPOs']\n",
      "['NVCA/VENTURE_3_19', 'First Sequence by Industry - Number of Deals']\n",
      "['NVCA/VENTURE_3_16', 'First Sequence by Stage of Development']\n",
      "['NVCA/VENTURE_3_08B', 'Venture Capital Investments By Region - Number of Deals']\n",
      "['NVCA/VENTURE_3_33', 'Clean Technology Investment By Year']\n",
      "['NVCA/VENTURE_M_A_EXITS', 'Venture-Backed M & A Exits']\n",
      "['NVCA/VENTURE_4_16', 'M&A Deal Value Ranges by Number of Companies']\n",
      "['NVCA/VENTURE_4_09', 'Venture-Backed Acquisitions by MoneyTree Industry - Total Transaction Values']\n",
      "['NVCA/VENTURE_3_10', 'Venture Capital Investments By Industry']\n",
      "['NVCA/VENTURE_3_15', 'Venture Capital Investments First vs. Follow-on Rounds - Total Number of Companies']\n",
      "['NVCA/VENTURE_4_19', 'Venture-Backed IPOs Valuations as of IPO']\n",
      "['NVCA/VENTURE_4_17A', 'Venture-Backed US Company IPOs By Country - Offer Amount']\n",
      "['NVCA/VENTURE_4_06B', 'Median Years Between First Funding and the IPO by Industry']\n",
      "['NVCA/VENTURE_4_06A', 'Average Years Between First Funding and the IPO by Industry']\n",
      "['NVCA/VENTURE_1_07', 'Capital Under Management By State']\n",
      "['NVCA/VENTURE_1_04', 'Fund and Firm Analysis']\n",
      "['NVCA/VENTURE_3_08', 'Venture Capital Investments By Region']\n",
      "['NVCA/VENTURE_3_18', 'First Sequence by Industry']\n",
      "['NVCA/VENTURE_10_0', 'Venture-Backed M & A Exits']\n",
      "['NVCA/VENTURE_3_32', 'Corporate Investments by Year']\n",
      "['NVCA/VENTURE_3_09', 'Venture Capital Investments By Stage']\n",
      "['NVCA/VENTURE_3_09B', 'Venture Capital Investments By Stage - Number of Deals']\n",
      "['NVCA/VENTURE_3_17', 'First Sequence by Stage of Development - Number of Deals']\n",
      "['NVCA/VENTURE_3_09D', 'Venture Capital Investments By Stage - Number of Deals - Quarterly']\n",
      "['NVCA/VENTURE_3_09C', 'Venture Capital Investments By Stage - Quarterly']\n"
     ]
    },
    {
     "data": {
      "text/plain": [
       "'NVCA/VENTURE_3_10B'"
      ]
     },
     "execution_count": 32,
     "metadata": {},
     "output_type": "execute_result"
    }
   ],
   "source": [
    "'''from list file_names:\n",
    "    pass file_name[0] to quandl.get()\n",
    "    and save as file_name[1] and save to data folder\n",
    "    '''\n",
    "def get_files(target_file_list):\n",
    "    for file_name in target_file_list:\n",
    "        ql.get(file_names[0][0])\n",
    "        print file_name"
   ]
  },
  {
   "cell_type": "code",
   "execution_count": null,
   "metadata": {
    "collapsed": true
   },
   "outputs": [],
   "source": []
  }
 ],
 "metadata": {
  "kernelspec": {
   "display_name": "Python 2",
   "language": "python",
   "name": "python2"
  },
  "language_info": {
   "codemirror_mode": {
    "name": "ipython",
    "version": 2
   },
   "file_extension": ".py",
   "mimetype": "text/x-python",
   "name": "python",
   "nbconvert_exporter": "python",
   "pygments_lexer": "ipython2",
   "version": "2.7.11"
  }
 },
 "nbformat": 4,
 "nbformat_minor": 0
}
